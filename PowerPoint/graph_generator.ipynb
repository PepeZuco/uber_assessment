{
 "cells": [
  {
   "cell_type": "code",
   "execution_count": 1,
   "metadata": {},
   "outputs": [],
   "source": [
    "import numpy as np\n",
    "import warnings \n",
    "import seaborn as sns\n",
    "import matplotlib.pyplot as plt\n",
    "import pandas as pd\n",
    "\n",
    "# Carregar o arquivo CSV\n",
    "df = pd.read_csv('/mnt/c/wo_pessoal/uber_assessment/data_final/train_df_cleaned_full.csv', low_memory=False)\n",
    "\n",
    "path_results = \"/mnt/c/wo_pessoal/uber_assessment/PowerPoint/Graphs/\""
   ]
  },
  {
   "cell_type": "code",
   "execution_count": 4,
   "metadata": {},
   "outputs": [
    {
     "data": {
      "text/plain": [
       "'/mnt/c/wo_pessoal/uber_assessment/PowerPoint/Graphs/combined_pickup_graphs_high_res.png'"
      ]
     },
     "execution_count": 4,
     "metadata": {},
     "output_type": "execute_result"
    }
   ],
   "source": [
    "# Criar subplots para os gráficos: pickup_hour, is_rush_hour, is_weekend, e is_holiday\n",
    "uber_colors = {\n",
    "    'primary': '#FFFFFF',   # Branco\n",
    "    'secondary': '#7F7F7F', # Cinza secundário\n",
    "    'highlight': '#FFF200', # Amarelo de destaque (se necessário)\n",
    "}\n",
    "\n",
    "# Criar subplots para os gráficos: pickup_hour, is_rush_hour, is_weekend, e is_holiday\n",
    "fig, axs = plt.subplots(2, 2, figsize=(12, 10))\n",
    "\n",
    "# 1. Gráfico de pickup_hour (no canto superior esquerdo)\n",
    "df['pickup_hour'].value_counts().sort_index().plot(kind='bar', color=[uber_colors['primary']], edgecolor='white', ax=axs[0, 0])\n",
    "axs[0, 0].set_title('Pickups by Hour of the Day', fontsize=14, color='white')\n",
    "axs[0, 0].set_xlabel('')  # Remover o texto do eixo X\n",
    "axs[0, 0].set_ylabel('')  # Remover o rótulo Y\n",
    "axs[0, 0].tick_params(colors='white')\n",
    "axs[0, 0].yaxis.set_visible(False)  # Remover o eixo Y\n",
    "\n",
    "# 2. Gráfico de is_rush_hour (no canto superior direito)\n",
    "df['is_rush_hour'].value_counts().plot(kind='bar', color=[uber_colors['primary'], uber_colors['secondary']], edgecolor='white', ax=axs[0, 1])\n",
    "axs[0, 1].set_title('Pickups During Rush Hour vs Non-Rush Hour', fontsize=14, color='white')\n",
    "axs[0, 1].set_xlabel('')  # Remover o texto do eixo X\n",
    "axs[0, 1].set_ylabel('')  # Remover o rótulo Y\n",
    "axs[0, 1].tick_params(colors='white')\n",
    "axs[0, 1].yaxis.set_visible(False)  # Remover o eixo Y\n",
    "\n",
    "# 3. Gráfico de is_weekend (no canto inferior esquerdo) - título embaixo\n",
    "df['is_weekend'].value_counts().plot(kind='bar', color=[uber_colors['primary'], uber_colors['secondary']], edgecolor='white', ax=axs[1, 0])\n",
    "axs[1, 0].set_xlabel('Pickups on Weekdays vs Weekends', fontsize=14, color='white')  # Colocar o título no eixo X\n",
    "axs[1, 0].set_ylabel('')  # Remover o rótulo Y\n",
    "axs[1, 0].set_title('')  # Remover o título do topo\n",
    "axs[1, 0].tick_params(colors='white')\n",
    "axs[1, 0].yaxis.set_visible(False)  # Remover o eixo Y\n",
    "\n",
    "# 4. Gráfico de is_holiday (no canto inferior direito) - título embaixo\n",
    "df['is_holiday'].value_counts().plot(kind='bar', color=[uber_colors['primary'], uber_colors['secondary']], edgecolor='white', ax=axs[1, 1])\n",
    "axs[1, 1].set_xlabel('Pickups on Holidays vs Non-Holidays', fontsize=14, color='white')  # Colocar o título no eixo X\n",
    "axs[1, 1].set_ylabel('')  # Remover o rótulo Y\n",
    "axs[1, 1].set_title('')  # Remover o título do topo\n",
    "axs[1, 1].tick_params(colors='white')\n",
    "axs[1, 1].yaxis.set_visible(False)  # Remover o eixo Y\n",
    "\n",
    "# Ajustes no layout e cores\n",
    "plt.tight_layout()\n",
    "fig.patch.set_facecolor('black')  # Definir fundo preto\n",
    "\n",
    "# Salvar o gráfico com resolução maior (definir DPI alto)\n",
    "plt.savefig(path_results + 'combined_pickup_graphs_high_res.png', transparent=True, dpi=300)  # Definir DPI para 300 (alta resolução)\n",
    "plt.close()\n",
    "\n",
    "# Retornar o caminho do arquivo gerado\n",
    "output_file = path_results + 'combined_pickup_graphs_high_res.png'\n",
    "output_file"
   ]
  },
  {
   "cell_type": "code",
   "execution_count": 5,
   "metadata": {},
   "outputs": [
    {
     "data": {
      "text/plain": [
       "'/mnt/c/wo_pessoal/uber_assessment/PowerPoint/Graphs/feature_importance_ordered_high_res.png'"
      ]
     },
     "execution_count": 5,
     "metadata": {},
     "output_type": "execute_result"
    }
   ],
   "source": [
    "# Exemplo de importância das features usando RandomForest\n",
    "from sklearn.ensemble import RandomForestRegressor\n",
    "\n",
    "# Definir as features e o alvo (X e y)\n",
    "X = df[['is_weekend', 'is_rush_hour', 'is_holiday', 'pickup_hour']]\n",
    "y = df['trip_duration']\n",
    "\n",
    "# Treinar o modelo\n",
    "model = RandomForestRegressor()\n",
    "model.fit(X, y)\n",
    "\n",
    "# Obter a importância das features e ordenar por importância\n",
    "feature_importances = model.feature_importances_\n",
    "features = X.columns\n",
    "\n",
    "# Criar um dataframe para facilitar a ordenação e plotagem\n",
    "importance_df = pd.DataFrame({\n",
    "    'Feature': features,\n",
    "    'Importance': feature_importances\n",
    "}).sort_values(by='Importance', ascending=False)\n",
    "\n",
    "# Plotar a importância das features ordenada\n",
    "plt.figure(figsize=(8, 6))\n",
    "plt.barh(importance_df['Feature'], importance_df['Importance'], color=uber_colors['primary'])\n",
    "plt.title('Feature Importance', fontsize=14, color='white')\n",
    "plt.xlabel('Importance', fontsize=12, color='white')\n",
    "plt.ylabel('Features', fontsize=12, color='white')\n",
    "plt.xticks(color='white')\n",
    "plt.yticks(color='white')\n",
    "plt.gca().invert_yaxis()  # Para manter a maior importância no topo\n",
    "plt.tight_layout()\n",
    "\n",
    "# Salvar o gráfico com resolução maior (definir DPI alto)\n",
    "plt.savefig(path_results + 'feature_importance_ordered_high_res.png', transparent=True, dpi=300)  # Definir DPI para 300\n",
    "plt.close()\n",
    "\n",
    "# Retornar o caminho do arquivo gerado\n",
    "output_file = path_results + 'feature_importance_ordered_high_res.png'\n",
    "output_file\n"
   ]
  }
 ],
 "metadata": {
  "kernelspec": {
   "display_name": "uber_assessment",
   "language": "python",
   "name": "python3"
  },
  "language_info": {
   "codemirror_mode": {
    "name": "ipython",
    "version": 3
   },
   "file_extension": ".py",
   "mimetype": "text/x-python",
   "name": "python",
   "nbconvert_exporter": "python",
   "pygments_lexer": "ipython3",
   "version": "3.10.12"
  }
 },
 "nbformat": 4,
 "nbformat_minor": 2
}
